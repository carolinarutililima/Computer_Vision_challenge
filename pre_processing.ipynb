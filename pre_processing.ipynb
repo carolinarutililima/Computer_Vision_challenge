{
 "cells": [
  {
   "cell_type": "code",
   "execution_count": 1,
   "metadata": {},
   "outputs": [],
   "source": [
    "import pandas as pd\n"
   ]
  },
  {
   "cell_type": "raw",
   "metadata": {
    "vscode": {
     "languageId": "raw"
    }
   },
   "source": [
    "import pandas as pd\n",
    "\n",
    "# Load the CSV\n",
    "df = pd.read_csv(\"data/labels_old.csv\")\n",
    "\n",
    "# Drop the 'split' column\n",
    "df = df.drop(columns=[\"split\"])\n",
    "\n",
    "# Save back to CSV (overwrite or create new file)\n",
    "df.to_csv(\"data/labels.csv\", index=False)\n"
   ]
  },
  {
   "cell_type": "markdown",
   "metadata": {},
   "source": [
    "Here we will create a new label into the labels.csv, it will include if the pose is from a men or a women. "
   ]
  },
  {
   "cell_type": "code",
   "execution_count": 3,
   "metadata": {},
   "outputs": [
    {
     "name": "stdout",
     "output_type": "stream",
     "text": [
      "                  id  height  chest_circ  waist_circ  hip_circ  thigh_circ  \\\n",
      "0  syn_m000000-0-Pre  177.76       83.58       73.89     96.10       53.34   \n",
      "1  syn_m000000-0-Pos  177.76       83.58       73.89     96.10       53.34   \n",
      "2  syn_m000000-1-Pre  177.76       86.36       69.62     96.23       53.46   \n",
      "3  syn_m000000-1-Pos  177.76       86.36       69.62     96.23       53.46   \n",
      "4  syn_m000000-2-Pre  177.76       90.95       65.70     96.60       53.72   \n",
      "\n",
      "   knee_circ  calf_circ  abd_circ  neck_circ  biceps_circ gender  \n",
      "0      36.45      32.81     74.71      35.53        23.53   male  \n",
      "1      36.45      32.81     74.71      35.53        23.53   male  \n",
      "2      36.34      34.71     68.73      35.63        26.03   male  \n",
      "3      36.34      34.71     68.73      35.63        26.03   male  \n",
      "4      36.27      36.68     62.95      36.23        28.67   male  \n"
     ]
    }
   ],
   "source": [
    "import pandas as pd\n",
    "\n",
    "# Load labels.csv\n",
    "df = pd.read_csv(\"data/labels.csv\")\n",
    "\n",
    "# Function to detect gender based on id\n",
    "def detect_gender(id_str):\n",
    "    if id_str.startswith(\"syn_m\"):\n",
    "        return \"male\"\n",
    "    elif id_str.startswith(\"syn_f\"):\n",
    "        return \"female\"\n",
    "    else:\n",
    "        return \"unknown\"\n",
    "\n",
    "# Add new column\n",
    "df[\"gender\"] = df[\"id\"].apply(detect_gender)\n",
    "\n",
    "# Save updated CSV\n",
    "df.to_csv(\"data/labels_with_gender.csv\", index=False)\n",
    "\n",
    "print(df.head())\n"
   ]
  }
 ],
 "metadata": {
  "kernelspec": {
   "display_name": "Python 3",
   "language": "python",
   "name": "python3"
  },
  "language_info": {
   "codemirror_mode": {
    "name": "ipython",
    "version": 3
   },
   "file_extension": ".py",
   "mimetype": "text/x-python",
   "name": "python",
   "nbconvert_exporter": "python",
   "pygments_lexer": "ipython3",
   "version": "3.12.8"
  }
 },
 "nbformat": 4,
 "nbformat_minor": 2
}
